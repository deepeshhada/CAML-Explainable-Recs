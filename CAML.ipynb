{
  "nbformat": 4,
  "nbformat_minor": 0,
  "metadata": {
    "colab": {
      "name": "CAML.ipynb",
      "provenance": [],
      "toc_visible": true
    },
    "kernelspec": {
      "name": "python3",
      "display_name": "Python 3"
    },
    "accelerator": "GPU"
  },
  "cells": [
    {
      "cell_type": "code",
      "metadata": {
        "id": "u1Egn5XRUWF-"
      },
      "source": [
        "import os, time, sys, shutil, zipfile, string, pickle\r\n",
        "from distutils.dir_util import copy_tree\r\n",
        "from copy import deepcopy\r\n",
        "from tqdm import tqdm\r\n",
        "from tqdm.notebook import tqdm as tqdm\r\n",
        "\r\n",
        "import numpy as np\r\n",
        "import pandas as pd\r\n",
        "from sklearn.model_selection import train_test_split\r\n",
        "\r\n",
        "import nltk, gensim\r\n",
        "from gensim.utils import simple_preprocess\r\n",
        "\r\n",
        "import torch\r\n",
        "import torch.nn as nn\r\n",
        "import torch.nn.functional as F\r\n",
        "import torch.optim as optim\r\n",
        "from torch.utils.data import Dataset, DataLoader\r\n",
        "\r\n",
        "!pip install visdom\r\n",
        "!pip uninstall tensorflow\r\n",
        "!pip install tensorflow-gpu==1.13.2"
      ],
      "execution_count": null,
      "outputs": []
    },
    {
      "cell_type": "code",
      "metadata": {
        "id": "aCRauIuYUjLB"
      },
      "source": [
        "device = torch.device(\"cuda:0\" if torch.cuda.is_available() else \"cpu\")\r\n",
        "\r\n",
        "# Args\r\n",
        "dataset_name = \"AmazonDigitalMusic\"\r\n",
        "dataset_path = '/content/drive/MyDrive/CAML/' + dataset_name + '/' + dataset_name + \".zip\"\r\n",
        "split_save_path = \"/content/drive/MyDrive/CAML/\" + dataset_name + \"/\"\r\n",
        "\r\n",
        "!git clone https://github.com/deepeshhada/CAML-Explainable-Recs.git"
      ],
      "execution_count": null,
      "outputs": []
    },
    {
      "cell_type": "code",
      "metadata": {
        "id": "QhI_BeJlZ-2M"
      },
      "source": [
        "'''\r\n",
        "    Copy preprocessed data\r\n",
        "'''\r\n",
        "%cd /content/CAML-Explainable-Recs/\r\n",
        "copy_tree(split_save_path, './data/')\r\n",
        "%cd /content/"
      ],
      "execution_count": null,
      "outputs": []
    },
    {
      "cell_type": "code",
      "metadata": {
        "id": "sVCTBER0aHTB"
      },
      "source": [
        "'''\r\n",
        "    Train CAML\r\n",
        "'''\r\n",
        "%cd /content/CAML-Explainable-Recs/\r\n",
        "!python train_CAML.py --opt Adam --emb_size 50 --rnn_size 50 --use_lower 1 --batch-size 128 --allow_growth 1 --dev_lr 0 --rnn_layers 1 --num_proj 1 --dropout 0.8 --epochs 10 --gpu 0 --hdim 50 --lr 0.001 --trainable 1 --eval 1 --dev 1 --num_heads 2 --hard 1 --early_stop 5 --translate_proj 1 --eval_train 0 --dmax 20 --smax 30 --init 0.01 --init_type xavier --att_reuse 0 --gmax 30 --rnn_dim 400 --gen_lambda 1.0 --masking 1 --implicit 1 --average_embed 1 --word_gumbel 1 --data_prepare 1 --word_pooling MEAN --att_type BILINEAR --key_word_lambda 0.25 --word_aggregate MAX --feed_rating 0 --data_link ./data --log_dir cv/test\r\n",
        "%cd /content/"
      ],
      "execution_count": null,
      "outputs": []
    },
    {
      "cell_type": "code",
      "metadata": {
        "id": "7ymYur2VnqXN"
      },
      "source": [
        "'''\r\n",
        "    Test and Generate\r\n",
        "    Note: Assign best model's ckpt path and meta before inference\r\n",
        "'''\r\n",
        "model_meta_path = '/content/CAML-Explainable-Recs/cv/test/A2_Amazon_Instant_Video/RAW_MSE_CAML_FN_FM/31:01:22:23:39/model_best.ckpt.meta'\r\n",
        "model_path = '/content/CAML-Explainable-Recs/cv/test/A2_Amazon_Instant_Video/RAW_MSE_CAML_FN_FM/31:01:22:23:39/model_best.ckpt'\r\n",
        "\r\n",
        "%cd /content/CAML-Explainable-Recs/\r\n",
        "!python test_CAML.py --opt Adam --emb_size 50 --rnn_size 50 --use_lower 1 --batch-size 100 --allow_growth 1 --dev_lr 0 --rnn_layers 1 --num_proj 1 --dropout 0.8 --epochs 50 --gpu 0 --hdim 50 --lr 0.001 --trainable 1 --eval 1 --dev 1 --num_heads 2 --hard 1 --early_stop 5 --translate_proj 1 --eval_train 0 --dmax 20 --smax 30 --init 0.01 --init_type xavier --att_reuse 0 --gmax 30 --rnn_dim 400 --gen_lambda 1.0 --masking 1 --implicit 1 --average_embed 1 --word_gumbel 1 --data_prepare 1 --word_pooling MEAN --att_type BILINEAR --key_word_lambda 0.25 --word_aggregate MAX --feed_rating 0 --data_link ./data --len_penalty 2 --beam_size 4 --gen_dir gen_dir/ --gen_true_dir true_dir/ --model $model_path --model_meta $model_meta_path\r\n",
        "%cd /content/"
      ],
      "execution_count": null,
      "outputs": []
    },
    {
      "cell_type": "code",
      "metadata": {
        "id": "0S19NtP1yrOW"
      },
      "source": [
        "'''\r\n",
        "    Save true and generated reviews for further analysis\r\n",
        "'''\r\n",
        "%cd /content/CAML-Explainable-Recs/\r\n",
        "copy_tree('./gen_dir', split_save_path + 'gen_dir/')\r\n",
        "copy_tree('./true_dir', split_save_path + 'true_dir/')\r\n",
        "%cd /content/"
      ],
      "execution_count": null,
      "outputs": []
    }
  ]
}